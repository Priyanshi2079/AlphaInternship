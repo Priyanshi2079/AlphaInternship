{
 "cells": [
  {
   "cell_type": "code",
   "execution_count": null,
   "id": "f5722f15-0091-4e11-9dce-d46e397f3af1",
   "metadata": {},
   "outputs": [],
   "source": [
    "import requests\n",
    "import json\n",
    "\n",
    "\n",
    "BASE_URL = 'https://api.openweathermap.org/data/2.5/weather'\n",
    "\n",
    "city = input(\"Enter city name: \")\n",
    "\n",
    "params = {\n",
    "    'q': city,\n",
    "    'appid': '657e7d607dfb2948c978b09a210c4cec',\n",
    "    'units': 'metric'\n",
    "}\n",
    "response = requests.get(BASE_URL, params=params)\n",
    "response.raise_for_status()\n",
    "data = response.json()\n",
    "\n",
    "#extract\n",
    "city_name= data['name']\n",
    "temperature= data['main']['temp']\n",
    "weather_condition= data['weather'][0]['main']\n",
    "humidity= data['main']['humidity']\n",
    "wind_speed= data['wind']['speed']\n",
    "\n",
    "\n",
    "# Print the weather report\n",
    "print(f\"\\nWeather report for {city_name}:\")\n",
    "print(f\"Temperature: {temperature} °C\")\n",
    "print(f\"Condition: {weather_condition}\")\n",
    "print(f\"Humidity: {humidity}%\")\n",
    "print(f\"Wind Speed: {wind_speed} m/s\")"
   ]
  }
 ],
 "metadata": {
  "kernelspec": {
   "display_name": "Python 3 (ipykernel)",
   "language": "python",
   "name": "python3"
  },
  "language_info": {
   "codemirror_mode": {
    "name": "ipython",
    "version": 3
   },
   "file_extension": ".py",
   "mimetype": "text/x-python",
   "name": "python",
   "nbconvert_exporter": "python",
   "pygments_lexer": "ipython3",
   "version": "3.12.1"
  }
 },
 "nbformat": 4,
 "nbformat_minor": 5
}
