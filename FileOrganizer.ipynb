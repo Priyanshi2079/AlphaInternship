{
 "cells": [
  {
   "cell_type": "code",
   "execution_count": null,
   "id": "a41f7b80-9716-4125-ab8d-b6ca359e0477",
   "metadata": {},
   "outputs": [],
   "source": [
    "import os\n",
    "import shutil\n",
    "\n",
    "# Path to the folder you want to organize\n",
    "target_folder = 'C:/Users/peehu/Desktop/college'\n",
    "\n",
    "# Define file type categories\n",
    "file_types = {\n",
    "    \"Images\": [\".jpg\", \".jpeg\", \".png\"],\n",
    "    \"Documents\": [\".pdf\", \".docx\", \".txt\"],\n",
    "    \"Archives\": [\".zip\", \".rar\"],\n",
    "}\n",
    "\n",
    "# Walk through the directory and its subdirectories\n",
    "for root, dirs, files in os.walk(target_folder):\n",
    "    for file in files:\n",
    "        full_path = os.path.join(root, file)\n",
    "        extension = os.path.splitext(file)[1].lower()\n",
    "        \n",
    "        # Determine file category\n",
    "        category = \"Others\"  # default category\n",
    "        for key, ext_list in file_types.items():\n",
    "            if extension in ext_list:\n",
    "                category = key\n",
    "                break\n",
    "\n",
    "        # Build destination folder path\n",
    "        destination_folder = os.path.join(target_folder, category)\n",
    "\n",
    "        # Create destination folder if it doesn't exist\n",
    "        if not os.path.exists(destination_folder):\n",
    "            os.makedirs(destination_folder)\n",
    "\n",
    "        # Build destination file path\n",
    "        destination_path = os.path.join(destination_folder, file)\n",
    "\n",
    "        # Avoid copying file onto itself\n",
    "        if full_path != destination_path:\n",
    "            try:\n",
    "                shutil.copy2(full_path, destination_path)\n",
    "                print(f\"Copied: {file} ➜ {category}/\")\n",
    "            except Exception as e:\n",
    "                print(f\"Error copying {file}: {e}\")\n"
   ]
  }
 ],
 "metadata": {
  "kernelspec": {
   "display_name": "Python 3 (ipykernel)",
   "language": "python",
   "name": "python3"
  },
  "language_info": {
   "codemirror_mode": {
    "name": "ipython",
    "version": 3
   },
   "file_extension": ".py",
   "mimetype": "text/x-python",
   "name": "python",
   "nbconvert_exporter": "python",
   "pygments_lexer": "ipython3",
   "version": "3.12.1"
  }
 },
 "nbformat": 4,
 "nbformat_minor": 5
}
