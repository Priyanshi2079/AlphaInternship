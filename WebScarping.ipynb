{
 "cells": [
  {
   "cell_type": "code",
   "execution_count": null,
   "id": "a02d7724-0fb2-47f3-bc29-7fa1853aa40a",
   "metadata": {},
   "outputs": [],
   "source": [
    "import requests\n",
    "from bs4 import BeautifulSoup\n",
    "import csv\n",
    "\n",
    "BASE_URL = 'https://books.toscrape.com/'\n",
    "\n",
    "# Send a GET request \n",
    "response = requests.get(BASE_URL)\n",
    "response.raise_for_status()  # Check for request errors\n",
    "\n",
    "# Parse HTML content \n",
    "soup = BeautifulSoup(response.text, 'html.parser')\n",
    "\n",
    "# Find book containers \n",
    "books = soup.find_all('article', class_='product_pod')\n",
    "\n",
    "# Open CSV file \n",
    "with open('books.csv', 'w', newline='', encoding='utf-8') as csvfile:\n",
    "    writer = csv.writer(csvfile)\n",
    "    \n",
    "    writer.writerow(['Title', 'Price', 'Availability'])\n",
    "\n",
    "    for book in books:\n",
    "        #  title\n",
    "        title = book.h3.a['title']\n",
    "        # price\n",
    "        price = book.find('p', class_='price_color').text.strip()\n",
    "        #  availability\n",
    "        availability = book.find('p', class_='instock availability').text.strip()\n",
    "        # Write the data \n",
    "        writer.writerow([title, price, availability])\n",
    "\n",
    "print(\"Scraping completed. Data saved to 'books.csv'.\")"
   ]
  }
 ],
 "metadata": {
  "kernelspec": {
   "display_name": "Python 3 (ipykernel)",
   "language": "python",
   "name": "python3"
  },
  "language_info": {
   "codemirror_mode": {
    "name": "ipython",
    "version": 3
   },
   "file_extension": ".py",
   "mimetype": "text/x-python",
   "name": "python",
   "nbconvert_exporter": "python",
   "pygments_lexer": "ipython3",
   "version": "3.12.1"
  }
 },
 "nbformat": 4,
 "nbformat_minor": 5
}
